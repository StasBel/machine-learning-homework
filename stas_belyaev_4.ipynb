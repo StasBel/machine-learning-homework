{
 "cells": [
  {
   "cell_type": "markdown",
   "metadata": {
    "deletable": true,
    "editable": true
   },
   "source": [
    "# Домашнее задание №4: «Байес на страже SMS»"
   ]
  },
  {
   "cell_type": "code",
   "execution_count": 1,
   "metadata": {
    "collapsed": true,
    "deletable": true,
    "editable": true
   },
   "outputs": [],
   "source": [
    "import numpy as np"
   ]
  },
  {
   "cell_type": "markdown",
   "metadata": {},
   "source": [
    "## Data"
   ]
  },
  {
   "cell_type": "markdown",
   "metadata": {
    "deletable": true,
    "editable": true
   },
   "source": [
    "### Dataset reading and parsing."
   ]
  },
  {
   "cell_type": "code",
   "execution_count": 2,
   "metadata": {
    "collapsed": false,
    "deletable": true,
    "editable": true
   },
   "outputs": [],
   "source": [
    "def read_data(path=\"spam\"):\n",
    "    \"\"\"\n",
    "    Reading data from the file.\n",
    "    \n",
    "    :param path: path to file to open\n",
    "    :return tuple matrix of features and list of classes\n",
    "    \"\"\"\n",
    "    with open(path) as dataset:\n",
    "        raw_lines = dataset.readlines()\n",
    "        marked_lines = list(tuple(l.rstrip('\\n').split('\\t'))\n",
    "                            for l in raw_lines)\n",
    "        y, X = map(list, zip(*marked_lines))\n",
    "        return X, y"
   ]
  },
  {
   "cell_type": "markdown",
   "metadata": {},
   "source": [
    "### Vectorization"
   ]
  },
  {
   "cell_type": "code",
   "execution_count": 3,
   "metadata": {
    "collapsed": true
   },
   "outputs": [],
   "source": [
    "from functools import reduce\n",
    "import itertools\n",
    "import re\n",
    "\n",
    "\n",
    "def vectorize(N):\n",
    "    \"\"\"\n",
    "    Giving a list of sentenses, construct a bag of words matrix. \n",
    "    Not very efficient/clever/nice way to do it, still fast through.\n",
    "    \n",
    "    :param N: list of sentences\n",
    "    :return: bag of words repr\n",
    "    \"\"\"\n",
    "    # Making DFA for finding words.\n",
    "    wp = re.compile(\"\\w+\")\n",
    "    # Presaving splitting to words for each string.\n",
    "    words = list(map(wp.findall, N))\n",
    "    # Making vocabulary & place for all words in it.\n",
    "    all_words = set(itertools.chain.from_iterable(words))\n",
    "    m = len(all_words)\n",
    "    place = dict((w[1], w[0]) for w in enumerate(all_words))\n",
    "    # Define function to map.\n",
    "    def f(wl):\n",
    "        a = np.zeros(m)\n",
    "        for w in wl:\n",
    "            a[place[w]] += 1\n",
    "        return a\n",
    "    # Return numpy matrix.\n",
    "    return np.array(list(map(f, words)))"
   ]
  },
  {
   "cell_type": "markdown",
   "metadata": {},
   "source": [
    "### Data preparing"
   ]
  },
  {
   "cell_type": "code",
   "execution_count": 4,
   "metadata": {
    "collapsed": true
   },
   "outputs": [],
   "source": [
    "def prepare_data(X, y):\n",
    "    \"\"\"\n",
    "    Giving a tuple of sentences list and class array, preprocess\n",
    "    them into numpy matrix and array with numerical features only.\n",
    "    \n",
    "    :param X: list of sentences\n",
    "    :param Y: classes array\n",
    "    :return: a tuple of numpy matrix, numpy array and dict, mapping\n",
    "    class num to string id.\n",
    "    \"\"\"\n",
    "    X = vectorize(X)\n",
    "    dl = list(enumerate(np.unique(y)))\n",
    "    s2c = dict((t[1], t[0]) for t in dl)\n",
    "    return X, np.apply_along_axis(np.vectorize(lambda s: s2c[s]), 0, y), dict(dl)"
   ]
  },
  {
   "cell_type": "markdown",
   "metadata": {},
   "source": [
    "### Data splitting"
   ]
  },
  {
   "cell_type": "code",
   "execution_count": 5,
   "metadata": {
    "collapsed": false
   },
   "outputs": [],
   "source": [
    "from sklearn.model_selection import train_test_split"
   ]
  },
  {
   "cell_type": "markdown",
   "metadata": {},
   "source": [
    "### Proceed"
   ]
  },
  {
   "cell_type": "code",
   "execution_count": 6,
   "metadata": {
    "collapsed": false
   },
   "outputs": [],
   "source": [
    "X_raw, y_raw = read_data()\n",
    "X, y, class_dict = prepare_data(X_raw, y_raw)\n",
    "X_train, X_test, y_train, y_test = train_test_split(X, y, test_size=0.2)"
   ]
  },
  {
   "cell_type": "markdown",
   "metadata": {},
   "source": [
    "### Visualization"
   ]
  },
  {
   "cell_type": "code",
   "execution_count": 7,
   "metadata": {
    "collapsed": true
   },
   "outputs": [],
   "source": [
    "import matplotlib.pyplot as plt\n",
    "import pandas as pd\n",
    "from collections import Counter\n",
    "%matplotlib inline"
   ]
  },
  {
   "cell_type": "code",
   "execution_count": 8,
   "metadata": {
    "collapsed": false
   },
   "outputs": [
    {
     "data": {
      "text/plain": [
       "<matplotlib.axes._subplots.AxesSubplot at 0x14b87c898>"
      ]
     },
     "execution_count": 8,
     "metadata": {},
     "output_type": "execute_result"
    },
    {
     "data": {
      "image/png": "[encoded data removed]",
      "text/plain": [
       "<matplotlib.figure.Figure at 0x14b851da0>"
      ]
     },
     "metadata": {},
     "output_type": "display_data"
    }
   ],
   "source": [
    "plt.style.use('bmh')\n",
    "pd.DataFrame.from_dict(Counter(y_raw), orient=\"index\").plot(kind=\"bar\", legend=None)"
   ]
  },
  {
   "cell_type": "markdown",
   "metadata": {},
   "source": [
    "## Bayes"
   ]
  },
  {
   "cell_type": "code",
   "execution_count": 9,
   "metadata": {
    "collapsed": false
   },
   "outputs": [],
   "source": [
    "class NaiveBayes:\n",
    "    def __init__(self, alpha):\n",
    "        self.alpha = alpha\n",
    "\n",
    "    def fit(self, X, y):\n",
    "        # Size of the vocabulary (= number of words).\n",
    "        m = X.shape[1]\n",
    "        # A priori probability for classes.\n",
    "        C, P = np.unique(y, return_counts=True)\n",
    "        self.P = P / y.size\n",
    "        # Sum of number of words for each class.\n",
    "        S = np.bincount(y, X.sum(axis=1))\n",
    "        # Calc thetta with additive smoothing.\n",
    "        self.thetta = np.apply_along_axis(lambda c: (X[y == c].sum(axis=0) + self.alpha) / (S[c] + self.alpha * m),\n",
    "                                          1,\n",
    "                                          C.reshape((C.size, 1)))\n",
    "\n",
    "    def predict(self, X):\n",
    "        return (np.dot(X, np.log(self.thetta.T)) + np.log(self.P)).argmax(axis=1)\n",
    "\n",
    "    def score(self, X, y):\n",
    "        return (self.predict(X) == y).sum() / y.size"
   ]
  },
  {
   "cell_type": "markdown",
   "metadata": {
    "deletable": true,
    "editable": true
   },
   "source": [
    "## Main"
   ]
  },
  {
   "cell_type": "code",
   "execution_count": 10,
   "metadata": {
    "collapsed": false,
    "deletable": true,
    "editable": true
   },
   "outputs": [
    {
     "data": {
      "text/plain": [
       "0.97399103139013454"
      ]
     },
     "execution_count": 10,
     "metadata": {},
     "output_type": "execute_result"
    }
   ],
   "source": [
    "nb = NaiveBayes(alpha=1)\n",
    "nb.fit(X_train, y_train)\n",
    "nb.score(X_test, y_test)"
   ]
  }
 ],
 "metadata": {
  "kernelspec": {
   "display_name": "Python 3",
   "language": "python",
   "name": "python3"
  },
  "language_info": {
   "codemirror_mode": {
    "name": "ipython",
    "version": 3.0
   },
   "file_extension": ".py",
   "mimetype": "text/x-python",
   "name": "python",
   "nbconvert_exporter": "python",
   "pygments_lexer": "ipython3",
   "version": "3.6.1"
  }
 },
 "nbformat": 4,
 "nbformat_minor": 0
}