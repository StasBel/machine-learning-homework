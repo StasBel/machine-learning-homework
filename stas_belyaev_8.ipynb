{
 "cells": [
  {
   "cell_type": "markdown",
   "metadata": {
    "collapsed": true
   },
   "source": [
    "# Домашнее задание №8: «Недвижимость и регрессия» [\\[link\\]](http://mit.spbau.ru/sewiki/images/c/c0/ML17-Homework8.pdf)"
   ]
  },
  {
   "cell_type": "markdown",
   "metadata": {},
   "source": [
    "## Working with the data"
   ]
  },
  {
   "cell_type": "code",
   "execution_count": 1,
   "metadata": {},
   "outputs": [],
   "source": [
    "import numpy as np\n",
    "\n",
    "\n",
    "data = np.genfromtxt(\"boston.csv\", skip_header=15, delimiter=\",\")\n",
    "X_raw, Y_raw = data[:, :-1], data[:, -1]\n",
    "del data"
   ]
  },
  {
   "cell_type": "code",
   "execution_count": 2,
   "metadata": {},
   "outputs": [],
   "source": [
    "from sklearn.model_selection import train_test_split\n",
    "from sklearn.preprocessing import normalize\n",
    "\n",
    "\n",
    "def gen_test_train(*, ratio=0.2, do_norm=False):\n",
    "    params = train_test_split(X_raw, Y_raw, test_size=ratio)\n",
    "    if do_norm:\n",
    "        for M in params:\n",
    "            normalize(M if len(M.shape) > 1 else M[:, np.newaxis],\n",
    "                      axis=0, copy=False)\n",
    "    return params"
   ]
  },
  {
   "cell_type": "code",
   "execution_count": 3,
   "metadata": {
    "collapsed": true
   },
   "outputs": [],
   "source": [
    "def sample(size, *, weights):\n",
    "    X = np.ones((size, 2))\n",
    "    X[:, 1] = np.random.gamma(4., 2., size)\n",
    "    y = X.dot(np.asarray(weights))\n",
    "    y += np.random.normal(0, 1, size)\n",
    "    return X[:, 1:], y"
   ]
  },
  {
   "cell_type": "markdown",
   "metadata": {},
   "source": [
    "## Linear regression"
   ]
  },
  {
   "cell_type": "markdown",
   "metadata": {},
   "source": [
    "### NormalLR"
   ]
  },
  {
   "cell_type": "code",
   "execution_count": 4,
   "metadata": {},
   "outputs": [],
   "source": [
    "import numpy.linalg as la\n",
    "\n",
    "\n",
    "class NormalLR:\n",
    "    def __init__(self, *, use_l2=False, l2_coef=1):\n",
    "        self.weights = None\n",
    "        self.use_l2 = use_l2\n",
    "        self.l2_coef = l2_coef\n",
    "\n",
    "    def fit(self, X, Y):\n",
    "        m = X.shape[1]\n",
    "        add = self.l2_coef * (np.eye(m) if self.use_l2 else np.zeros((m, m)))\n",
    "        self.weights = la.inv(X.T @ X + add) @ X.T @ Y\n",
    "        return self\n",
    "\n",
    "    def predict(self, X):\n",
    "        return X @ self.weights"
   ]
  },
  {
   "cell_type": "markdown",
   "metadata": {},
   "source": [
    "### GradientLR"
   ]
  },
  {
   "cell_type": "code",
   "execution_count": 5,
   "metadata": {},
   "outputs": [],
   "source": [
    "class GradientLR:\n",
    "    def __init__(self, *, alpha=0.01, eps=None, max_iter=100000, use_l2=False, l2_coef=1):\n",
    "        self.weights = None\n",
    "        self.alpha = alpha\n",
    "        self.eps = eps or alpha / 100\n",
    "        self.max_iter = max_iter\n",
    "        self.use_l2 = use_l2\n",
    "        self.l2_coef = l2_coef\n",
    "\n",
    "    def fit(self, X, Y):\n",
    "        n, m = X.shape\n",
    "        weights = np.random.uniform(-1. / (2 * m), 1. / (2 * m), m)\n",
    "        iter_num = 0\n",
    "        while True:\n",
    "            prev_weights = weights.copy()\n",
    "            add = self.l2_coef * (weights if self.use_l2 else np.zeros(m))\n",
    "            weights -= (2 * self.alpha / n) * X.T @ (X @ weights - Y) + add\n",
    "            iter_num += 1\n",
    "            if la.norm(weights - prev_weights) <= self.eps or iter_num >= self.max_iter:\n",
    "                break\n",
    "        self.weights = weights\n",
    "        return self\n",
    "\n",
    "    def predict(self, X):\n",
    "        return X @ self.weights"
   ]
  },
  {
   "cell_type": "markdown",
   "metadata": {},
   "source": [
    "## Test"
   ]
  },
  {
   "cell_type": "markdown",
   "metadata": {},
   "source": [
    "### Useful funcs"
   ]
  },
  {
   "cell_type": "code",
   "execution_count": 6,
   "metadata": {
    "collapsed": true
   },
   "outputs": [],
   "source": [
    "def mse(y_true, y_pred):\n",
    "    return ((y_true - y_pred) ** 2).mean()"
   ]
  },
  {
   "cell_type": "code",
   "execution_count": 7,
   "metadata": {
    "collapsed": true
   },
   "outputs": [],
   "source": [
    "from matplotlib import pyplot as plt\n",
    "\n",
    "\n",
    "def visualize(X, Y_true, Y_pred):\n",
    "    plt.scatter(X, Y_true)\n",
    "    plt.plot(X, Y_pred, color=\"red\")\n",
    "    plt.show()"
   ]
  },
  {
   "cell_type": "markdown",
   "metadata": {},
   "source": [
    "### NormalLR"
   ]
  },
  {
   "cell_type": "code",
   "execution_count": 8,
   "metadata": {},
   "outputs": [
    {
     "data": {
      "text/plain": [
       "0.00042847783312844018"
      ]
     },
     "execution_count": 8,
     "metadata": {},
     "output_type": "execute_result"
    }
   ],
   "source": [
    "X_train, X_test, Y_train, Y_test = gen_test_train(do_norm=True)\n",
    "mse(Y_test, NormalLR().fit(X_train, Y_train).predict(X_test))"
   ]
  },
  {
   "cell_type": "code",
   "execution_count": 9,
   "metadata": {},
   "outputs": [
    {
     "data": {
      "image/png": "[encoded data removed]",
      "text/plain": [
       "<matplotlib.figure.Figure at 0x11719dac8>"
      ]
     },
     "metadata": {},
     "output_type": "display_data"
    }
   ],
   "source": [
    "X, Y_true = sample(1000, weights=[24., 42.])\n",
    "visualize(X, Y_true, NormalLR().fit(X, Y_true).predict(X))"
   ]
  },
  {
   "cell_type": "markdown",
   "metadata": {},
   "source": [
    "### GradientLR"
   ]
  },
  {
   "cell_type": "code",
   "execution_count": 10,
   "metadata": {},
   "outputs": [
    {
     "data": {
      "text/plain": [
       "0.006669138744207514"
      ]
     },
     "execution_count": 10,
     "metadata": {},
     "output_type": "execute_result"
    }
   ],
   "source": [
    "X_train, X_test, Y_train, Y_test = gen_test_train(do_norm=True)\n",
    "mse(Y_test, GradientLR().fit(X_train, Y_train).predict(X_test))"
   ]
  },
  {
   "cell_type": "code",
   "execution_count": 11,
   "metadata": {},
   "outputs": [
    {
     "data": {
      "image/png": "[encoded data removed]",
      "text/plain": [
       "<matplotlib.figure.Figure at 0x1191dbda0>"
      ]
     },
     "metadata": {},
     "output_type": "display_data"
    }
   ],
   "source": [
    "X, Y_true = sample(1000, weights=[24., 42.])\n",
    "visualize(X, Y_true, GradientLR().fit(X, Y_true).predict(X))"
   ]
  },
  {
   "cell_type": "markdown",
   "metadata": {},
   "source": [
    "### Compare"
   ]
  },
  {
   "cell_type": "code",
   "execution_count": 12,
   "metadata": {},
   "outputs": [],
   "source": [
    "from itertools import product, chain\n",
    "\n",
    "\n",
    "sample_sizes = 128, 256, 512, 1024\n",
    "weights = ()\n",
    "samples = (lambda s=s, w=w: (lambda t: (t[0],) * 2 + (t[1],) * 2)(sample(size=s, weights=w))\n",
    "           for s, w in product(sample_sizes, weights))\n",
    "do_norms = True,\n",
    "housess = (lambda d=d: gen_test_train(do_norm=d) for d in do_norms)\n",
    "datas = chain(samples, housess)\n",
    "use_l2s = False, True\n",
    "l2_coefs = .1, .25, .5, .1\n",
    "normal_lrs = (NormalLR(use_l2=u, l2_coef=c)\n",
    "              for u, c in product(use_l2s, l2_coefs))\n",
    "alphas = 1e-2,\n",
    "gradient_lrs = (GradientLR(alpha=a, use_l2=u, l2_coef=c)\n",
    "                for a, u, c in product(alphas, use_l2s, l2_coefs))\n",
    "lrs = chain(normal_lrs, gradient_lrs)\n",
    "\n",
    "\n",
    "for lr, data in product(lrs, datas):\n",
    "    X_train, X_test, Y_train, Y_test = data()\n",
    "    # use can print some info about alg or data right here\n",
    "    mse(Y_test, lr.fit(X_train, Y_train).predict(X_test))"
   ]
  },
  {
   "cell_type": "markdown",
   "metadata": {},
   "source": [
    "## Q&A\n",
    "\n",
    "* **Какой из подходов имеет меньшее значение средней ошибки?**\n",
    "\n",
    "    В среднем, меньшую ошибку дает NormalLR на выборке размера $128$.\n",
    "\n",
    "* **Как ведут себя алгоритмы в зависимости от размера выборки?**\n",
    "\n",
    "    Ответ выдается моментально. Ошибка растет с увеличением размера выборки.\n",
    "   \n",
    "* **Что можно сказать о времени работы каждого из алгоритмов?**\n",
    "\n",
    "    На маленьких выборках - ответ выдается моментально. На больших, градиентному требуется время на схождение.\n",
    "\n",
    "* **Какой из подходов имеет меньшее значение средней ошибки? Согласуется ли результат с полученным на симулированных данных?**\n",
    "\n",
    "    Меньшую ошибку выдает NormalLR. Да, согласуется.\n",
    "\n",
    "* **Как вы считаете, требуется ли нормировка признаков в случае данных о стоимости недвижимости? Объясните, почему.**\n",
    "\n",
    "    Нужна. Так увеличивается скорость схождения градиента.\n",
    "\n",
    "* **Интерпретируйте коэффициенты регрессии, полученные одним из алгоритмов. Какой из признаков даёт наибольший вклад в стоимость недвижимости?**\n",
    "\n",
    "    Судя по одному из вектору коэффицентов, наибольший вклад дает $6$ой признак (average number of rooms per dwelling).\n",
    "\n",
    "* **Какой из алгоритмов лучше подходит для задачи предсказания стоимости? Почему?**\n",
    "\n",
    "    NormalLR. Быстрее и точнее.\n",
    "\n",
    "* **Опишите влияние регуляризации на значение среднего квадрата ошибки.**\n",
    "\n",
    "    Для обоих алгоритмов, регуляризация влияет отрицательно, увеличивая mse."
   ]
  }
 ],
 "metadata": {
  "kernelspec": {
   "display_name": "Python 3",
   "language": "python",
   "name": "python3"
  },
  "language_info": {
   "codemirror_mode": {
    "name": "ipython",
    "version": 3
   },
   "file_extension": ".py",
   "mimetype": "text/x-python",
   "name": "python",
   "nbconvert_exporter": "python",
   "pygments_lexer": "ipython3",
   "version": "3.6.1"
  }
 },
 "nbformat": 4,
 "nbformat_minor": 1
}
